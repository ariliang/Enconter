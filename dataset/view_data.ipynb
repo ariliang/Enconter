{
 "metadata": {
  "language_info": {
   "codemirror_mode": {
    "name": "ipython",
    "version": 3
   },
   "file_extension": ".py",
   "mimetype": "text/x-python",
   "name": "python",
   "nbconvert_exporter": "python",
   "pygments_lexer": "ipython3",
   "version": "3.8.5"
  },
  "orig_nbformat": 2,
  "kernelspec": {
   "name": "python3710jvsc74a57bd0cf1a4657289324a22e84122906161b880ea068c17c7d1f20a524d472e3833550",
   "display_name": "Python 3.7.10 64-bit ('enconter': conda)"
  }
 },
 "nbformat": 4,
 "nbformat_minor": 2,
 "cells": [
  {
   "cell_type": "code",
   "execution_count": 2,
   "metadata": {},
   "outputs": [],
   "source": [
    "import pickle"
   ]
  },
  {
   "cell_type": "code",
   "execution_count": 9,
   "metadata": {},
   "outputs": [
    {
     "output_type": "stream",
     "name": "stdout",
     "text": [
      "length:  6557\n(['[CLS]', 'Hendrix', 'song', 'sells', 'almost', '17', '000', 'L', '##ON', '##D', '##ON', '-', '-', 'A', 'early', '##written', 'of', 'song', 'U', '.', 'S', '.', 'guitar', 'Jim', '##i', 'Hendrix', 'sold', 'almost', '17', '000', 'Thursday', 'an', 'of', 'of', 'late', \"'\", 'favourite', '.', 'Florida', 'paid', ',', '##5', '(', '16', '93', ')', 'the', 'of', 'Ai', 'n', \"'\", 't', 'no', 'telling', ',', 'Hendrix', 'on', 'piece', 'London', 'station', 'in', '1966', 'At', 'end', 'a', '1967', 'in', 'English', 'city', 'Nottingham', 'threw', 'sheet', 'paper', 'the', ',', 'it', 'retrieved', 'a', '.', '##ers', 'snapped', '16', 'items', 'were', 'up', 'auction', 'Hendrix', 's', 'girlfriend', 'Kathy', 'E', '##tch', '##ingham', 'who', 'with', 'from', 'to', '.', 'included', 'black', 'la', '##quer', 'mother', 'pearl', '##laid', 'used', 'Hendrix', 'store', 'drugs', 'which', 'anonymous', 'Australian', '##r', 'for', ',', '##0', '(', '7', '84', ')', 'The', 'died', 'a', 'over', '##e', '1970', '27', '[SEP]'], ['Rare', '[NOI]', 'draft', 'for', '$', ',', '.', '[NOI]', '[NOI]', '[NOI]', '1996', '08', '22', 'rare', 'hand', 'draft', 'a', 'by', '[NOI]', '[NOI]', '[NOI]', '[NOI]', 'legend', '[NOI]', '[NOI]', 'was', 'for', '$', ',', 'on', 'at', 'auction', 'some', 'the', 'musician', 's', 'possessions', 'A', 'restaurant', '10', '92', 'pounds', '$', ',', '##5', 'for', 'draft', '\"', '[NOI]', '[NOI]', '[NOI]', '[NOI]', '[NOI]', '\"', 'which', 'penned', 'a', 'of', 'hotel', '##ery', 'late', '.', 'the', 'of', 'January', 'concert', 'the', '[NOI]', 'of', 'he', 'the', 'of', 'into', 'audience', 'where', 'was', 'by', 'fan', 'Buy', 'also', 'up', 'other', 'that', 'put', 'for', 'by', \"'\", 'former', '[NOI]', '[NOI]', '[NOI]', '[NOI]', ',', 'lived', 'him', '1966', '1969', 'They', 'a', '[NOI]', '##c', 'and', 'of', 'in', 'box', 'by', 'to', 'his', ',', 'an', '[NOI]', 'purchase', 'bought', '5', '06', 'pounds', '$', ',', '##5', '.', 'guitarist', 'of', 'drugs', '##dos', 'in', 'aged', '.', '[NOI]'])\n"
     ]
    }
   ],
   "source": [
    "# pointer_e\n",
    "\n",
    "pointer_e = pickle.load(open('dataset/CoNLL_pointer_e', 'rb'))\n",
    "\n",
    "print('length: ', len(pointer_e))\n",
    "start = 1\n",
    "for tpl in pointer_e[start:start+1]:\n",
    "    print(tpl)"
   ]
  }
 ]
}