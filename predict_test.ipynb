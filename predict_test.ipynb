{
 "cells": [
  {
   "cell_type": "code",
   "execution_count": null,
   "id": "b9df9cda",
   "metadata": {},
   "outputs": [],
   "source": [
    "################# script area: 1\n",
    "#############################\n",
    "import pickle\n",
    "with open('output/dialo/dialo_train', 'rb') as f:\n",
    "    data = pickle.load(f)"
   ]
  },
  {
   "cell_type": "code",
   "execution_count": null,
   "id": "96e2f397",
   "metadata": {},
   "outputs": [],
   "source": [
    "################ script area: 2\n",
    "i = 0\n",
    "for dialo in data[i:i+1]:\n",
    "    src, lbl, tkn_typ = dialo\n",
    "    "
   ]
  },
  {
   "cell_type": "code",
   "execution_count": null,
   "id": "ad1fd9d8",
   "metadata": {},
   "outputs": [],
   "source": [
    "################# 生成测试\n",
    "#########################\n",
    "\n",
    "import os\n",
    "import torch\n",
    "from transformers import BertTokenizer, BertForMaskedLM\n",
    "from transformers import logging\n",
    "\n",
    "os.chdir('E:/Local-Data/Enconter/')\n",
    "logging.set_verbosity_error()\n",
    "MODEL = 'output/dialo_ckpt/model_9.ckpt'\n",
    "\n",
    "tokenizer = BertTokenizer.from_pretrained('output/dialo_ckpt/bert-base-chinese/')\n",
    "\n",
    "model = BertForMaskedLM.from_pretrained('../models_datasets/bert-base-chinese/')\n",
    "model.resize_token_embeddings(len(tokenizer))\n",
    "model.load_state_dict(torch.load(MODEL, map_location='cpu'))\n",
    "\n",
    "model.eval()"
   ]
  },
  {
   "cell_type": "code",
   "execution_count": null,
   "id": "b0d12485",
   "metadata": {},
   "outputs": [],
   "source": [
    "################# 测试\n",
    "pat = '[CLS][PAT]我是肚子疼'\n",
    "doc = '[DOC]胃病[SEP]'\n",
    "pat_ids = tokenizer.encode(pat, add_special_tokens=False)\n",
    "doc_ids = tokenizer.encode(doc, add_special_tokens=False)\n",
    "\n",
    "input_ids = pat_ids + doc_ids\n",
    "span = range(len(pat_ids), len(input_ids))\n",
    "\n",
    "input_ids = input_ids + [tokenizer.pad_token_id]*(512-len(input_ids))\n",
    "token_type_ids = [0]*len(pat_ids)+[1]*(512-len(pat_ids))\n",
    "\n",
    "input_ids = torch.tensor([input_ids], dtype=torch.long)\n",
    "token_type_ids = torch.tensor([token_type_ids], dtype=torch.long)\n",
    "position_ids = torch.arange(512, dtype=torch.long).unsqueeze(0)\n",
    "\n",
    "print(f'input_ids: {input_ids.shape}, token_type_ids: {token_type_ids.shape}, position_ids: {position_ids.shape}')\n",
    "\n",
    "logits = model(input_ids=input_ids, token_type_ids=token_type_ids, position_ids=position_ids)['logits']\n",
    "output = torch.argmax(logits, dim=-1).flatten().tolist()\n",
    "\n",
    "# new_output = []\n",
    "# for doc_id, o in zip(doc_ids, output):\n",
    "#     new_output.append(doc_id)\n",
    "#     new_output.append(o)\n",
    "\n",
    "print(tokenizer.decode(output))"
   ]
  },
  {
   "cell_type": "code",
   "execution_count": null,
   "id": "6daa58a1",
   "metadata": {},
   "outputs": [],
   "source": []
  }
 ],
 "metadata": {
  "kernelspec": {
   "name": "python3",
   "display_name": "Python 3.8.10 64-bit ('torch18': conda)"
  },
  "language_info": {
   "codemirror_mode": {
    "name": "ipython",
    "version": 3
   },
   "file_extension": ".py",
   "mimetype": "text/x-python",
   "name": "python",
   "nbconvert_exporter": "python",
   "pygments_lexer": "ipython3",
   "version": "3.8.10"
  },
  "interpreter": {
   "hash": "8ae8faf182021e246890837b0b970702488181c684c69eec5abf609155c578d6"
  }
 },
 "nbformat": 4,
 "nbformat_minor": 5
}